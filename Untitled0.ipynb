{
  "nbformat": 4,
  "nbformat_minor": 0,
  "metadata": {
    "colab": {
      "name": "Untitled0.ipynb",
      "provenance": []
    },
    "kernelspec": {
      "name": "python3",
      "display_name": "Python 3"
    }
  },
  "cells": [
    {
      "cell_type": "code",
      "metadata": {
        "id": "efPdkek3QvVU",
        "colab_type": "code",
        "colab": {
          "base_uri": "https://localhost:8080/",
          "height": 34
        },
        "outputId": "c943c030-b49c-4b54-e30a-430d6467a1fe"
      },
      "source": [
        "import keras\n",
        "import numpy as np\n",
        "import pandas as pd"
      ],
      "execution_count": 1,
      "outputs": [
        {
          "output_type": "stream",
          "text": [
            "Using TensorFlow backend.\n"
          ],
          "name": "stderr"
        }
      ]
    },
    {
      "cell_type": "code",
      "metadata": {
        "id": "u8IPolS2RBTG",
        "colab_type": "code",
        "colab": {}
      },
      "source": [
        "path=\"/content/HousingPrices.txt\"\n",
        "df=pd.read_csv(path)"
      ],
      "execution_count": 2,
      "outputs": []
    },
    {
      "cell_type": "code",
      "metadata": {
        "id": "R99BoMs_RLdN",
        "colab_type": "code",
        "colab": {
          "base_uri": "https://localhost:8080/",
          "height": 204
        },
        "outputId": "f82d38dc-a613-4597-8f35-00a8dd4a77a7"
      },
      "source": [
        "df.head()"
      ],
      "execution_count": 3,
      "outputs": [
        {
          "output_type": "execute_result",
          "data": {
            "text/html": [
              "<div>\n",
              "<style scoped>\n",
              "    .dataframe tbody tr th:only-of-type {\n",
              "        vertical-align: middle;\n",
              "    }\n",
              "\n",
              "    .dataframe tbody tr th {\n",
              "        vertical-align: top;\n",
              "    }\n",
              "\n",
              "    .dataframe thead th {\n",
              "        text-align: right;\n",
              "    }\n",
              "</style>\n",
              "<table border=\"1\" class=\"dataframe\">\n",
              "  <thead>\n",
              "    <tr style=\"text-align: right;\">\n",
              "      <th></th>\n",
              "      <th>YearBuilt</th>\n",
              "      <th>2ndFlrSF</th>\n",
              "      <th>GrLivArea</th>\n",
              "      <th>FullBath</th>\n",
              "      <th>HalfBath</th>\n",
              "      <th>BedroomAbvGr</th>\n",
              "      <th>TotRmsAbvGrd</th>\n",
              "      <th>YrSold</th>\n",
              "      <th>SalePrice</th>\n",
              "    </tr>\n",
              "  </thead>\n",
              "  <tbody>\n",
              "    <tr>\n",
              "      <th>0</th>\n",
              "      <td>2003</td>\n",
              "      <td>854</td>\n",
              "      <td>1710</td>\n",
              "      <td>2</td>\n",
              "      <td>1</td>\n",
              "      <td>3</td>\n",
              "      <td>8</td>\n",
              "      <td>2008</td>\n",
              "      <td>208500</td>\n",
              "    </tr>\n",
              "    <tr>\n",
              "      <th>1</th>\n",
              "      <td>1976</td>\n",
              "      <td>0</td>\n",
              "      <td>1262</td>\n",
              "      <td>2</td>\n",
              "      <td>0</td>\n",
              "      <td>3</td>\n",
              "      <td>6</td>\n",
              "      <td>2007</td>\n",
              "      <td>181500</td>\n",
              "    </tr>\n",
              "    <tr>\n",
              "      <th>2</th>\n",
              "      <td>2001</td>\n",
              "      <td>866</td>\n",
              "      <td>1786</td>\n",
              "      <td>2</td>\n",
              "      <td>1</td>\n",
              "      <td>3</td>\n",
              "      <td>6</td>\n",
              "      <td>2008</td>\n",
              "      <td>223500</td>\n",
              "    </tr>\n",
              "    <tr>\n",
              "      <th>3</th>\n",
              "      <td>1915</td>\n",
              "      <td>756</td>\n",
              "      <td>1717</td>\n",
              "      <td>1</td>\n",
              "      <td>0</td>\n",
              "      <td>3</td>\n",
              "      <td>7</td>\n",
              "      <td>2006</td>\n",
              "      <td>140000</td>\n",
              "    </tr>\n",
              "    <tr>\n",
              "      <th>4</th>\n",
              "      <td>2000</td>\n",
              "      <td>1053</td>\n",
              "      <td>2198</td>\n",
              "      <td>2</td>\n",
              "      <td>1</td>\n",
              "      <td>4</td>\n",
              "      <td>9</td>\n",
              "      <td>2008</td>\n",
              "      <td>250000</td>\n",
              "    </tr>\n",
              "  </tbody>\n",
              "</table>\n",
              "</div>"
            ],
            "text/plain": [
              "   YearBuilt  2ndFlrSF  GrLivArea  ...  TotRmsAbvGrd  YrSold  SalePrice\n",
              "0       2003       854       1710  ...             8    2008     208500\n",
              "1       1976         0       1262  ...             6    2007     181500\n",
              "2       2001       866       1786  ...             6    2008     223500\n",
              "3       1915       756       1717  ...             7    2006     140000\n",
              "4       2000      1053       2198  ...             9    2008     250000\n",
              "\n",
              "[5 rows x 9 columns]"
            ]
          },
          "metadata": {
            "tags": []
          },
          "execution_count": 3
        }
      ]
    },
    {
      "cell_type": "code",
      "metadata": {
        "id": "Uf-VaJwdRNFP",
        "colab_type": "code",
        "colab": {}
      },
      "source": [
        "X=df.iloc[:,:8]\n",
        "y=df[[\"SalePrice\"]]"
      ],
      "execution_count": 6,
      "outputs": []
    },
    {
      "cell_type": "code",
      "metadata": {
        "id": "6MEVetcPRY67",
        "colab_type": "code",
        "colab": {}
      },
      "source": [
        "model = keras.models.Sequential()\n",
        "\n",
        "model.add(keras.layers.Dense(8, activation='relu', input_shape=(8,)))\n",
        "model.add(keras.layers.Dense(8, activation='relu'))\n",
        "model.add(keras.layers.Dense(1))\n",
        "\n",
        "model.compile(optimizer='adam', loss='mean_squared_error')\n"
      ],
      "execution_count": 7,
      "outputs": []
    },
    {
      "cell_type": "code",
      "metadata": {
        "id": "f_d6GtXAShot",
        "colab_type": "code",
        "colab": {
          "base_uri": "https://localhost:8080/",
          "height": 1000
        },
        "outputId": "1f753328-b73b-45db-ccb7-572d74495308"
      },
      "source": [
        "model.fit(X, y, epochs=30, callbacks=[keras.callbacks.EarlyStopping(patience=3)])\n"
      ],
      "execution_count": 9,
      "outputs": [
        {
          "output_type": "stream",
          "text": [
            "Epoch 1/30\n",
            "1460/1460 [==============================] - 0s 204us/step - loss: 39045984121.3370\n",
            "Epoch 2/30\n",
            "1460/1460 [==============================] - 0s 31us/step - loss: 38763172344.9863\n",
            "Epoch 3/30\n",
            "1460/1460 [==============================] - 0s 33us/step - loss: 38320585786.9151\n",
            "Epoch 4/30\n",
            "1460/1460 [==============================] - 0s 32us/step - loss: 37587896701.5452\n",
            "Epoch 5/30\n",
            "1460/1460 [==============================] - 0s 33us/step - loss: 36437952887.9342\n",
            "Epoch 6/30\n",
            "  32/1460 [..............................] - ETA: 0s - loss: 30846846976.0000"
          ],
          "name": "stdout"
        },
        {
          "output_type": "stream",
          "text": [
            "/usr/local/lib/python3.6/dist-packages/keras/callbacks/callbacks.py:846: RuntimeWarning: Early stopping conditioned on metric `val_loss` which is not available. Available metrics are: loss\n",
            "  (self.monitor, ','.join(list(logs.keys()))), RuntimeWarning\n"
          ],
          "name": "stderr"
        },
        {
          "output_type": "stream",
          "text": [
            "1460/1460 [==============================] - 0s 34us/step - loss: 34765182712.2849\n",
            "Epoch 7/30\n",
            "1460/1460 [==============================] - 0s 35us/step - loss: 32427681292.6247\n",
            "Epoch 8/30\n",
            "1460/1460 [==============================] - 0s 33us/step - loss: 29374416015.0794\n",
            "Epoch 9/30\n",
            "1460/1460 [==============================] - 0s 34us/step - loss: 25678482131.8137\n",
            "Epoch 10/30\n",
            "1460/1460 [==============================] - 0s 32us/step - loss: 21625283603.6384\n",
            "Epoch 11/30\n",
            "1460/1460 [==============================] - 0s 35us/step - loss: 17499435145.4685\n",
            "Epoch 12/30\n",
            "1460/1460 [==============================] - 0s 34us/step - loss: 13657409305.9507\n",
            "Epoch 13/30\n",
            "1460/1460 [==============================] - 0s 36us/step - loss: 10421774307.9452\n",
            "Epoch 14/30\n",
            "1460/1460 [==============================] - 0s 33us/step - loss: 7974030811.5288\n",
            "Epoch 15/30\n",
            "1460/1460 [==============================] - 0s 33us/step - loss: 6330242569.8192\n",
            "Epoch 16/30\n",
            "1460/1460 [==============================] - 0s 32us/step - loss: 5389027939.5945\n",
            "Epoch 17/30\n",
            "1460/1460 [==============================] - 0s 34us/step - loss: 4913684634.6521\n",
            "Epoch 18/30\n",
            "1460/1460 [==============================] - 0s 32us/step - loss: 4703367030.1808\n",
            "Epoch 19/30\n",
            "1460/1460 [==============================] - 0s 32us/step - loss: 4619401216.0000\n",
            "Epoch 20/30\n",
            "1460/1460 [==============================] - 0s 34us/step - loss: 4585497622.4438\n",
            "Epoch 21/30\n",
            "1460/1460 [==============================] - 0s 35us/step - loss: 4568758300.4055\n",
            "Epoch 22/30\n",
            "1460/1460 [==============================] - 0s 32us/step - loss: 4556164584.1534\n",
            "Epoch 23/30\n",
            "1460/1460 [==============================] - 0s 32us/step - loss: 4547425688.8986\n",
            "Epoch 24/30\n",
            "1460/1460 [==============================] - 0s 33us/step - loss: 4537868364.4493\n",
            "Epoch 25/30\n",
            "1460/1460 [==============================] - 0s 36us/step - loss: 4530187601.0082\n",
            "Epoch 26/30\n",
            "1460/1460 [==============================] - 0s 34us/step - loss: 4518371573.4795\n",
            "Epoch 27/30\n",
            "1460/1460 [==============================] - 0s 33us/step - loss: 4510816124.1425\n",
            "Epoch 28/30\n",
            "1460/1460 [==============================] - 0s 31us/step - loss: 4498701548.3616\n",
            "Epoch 29/30\n",
            "1460/1460 [==============================] - 0s 33us/step - loss: 4490823463.9781\n",
            "Epoch 30/30\n",
            "1460/1460 [==============================] - 0s 31us/step - loss: 4480125963.2219\n"
          ],
          "name": "stdout"
        },
        {
          "output_type": "execute_result",
          "data": {
            "text/plain": [
              "<keras.callbacks.callbacks.History at 0x7ff4ba9f4390>"
            ]
          },
          "metadata": {
            "tags": []
          },
          "execution_count": 9
        }
      ]
    },
    {
      "cell_type": "code",
      "metadata": {
        "id": "QnWgDpSkS5jz",
        "colab_type": "code",
        "colab": {
          "base_uri": "https://localhost:8080/",
          "height": 34
        },
        "outputId": "ff33e474-01f6-4731-c5a5-8929bc0ba12f"
      },
      "source": [
        "test_data = np.array([2003,\t854,\t1710,\t2,\t1,\t3,\t8,\t2008])\n",
        "print(model.predict(test_data.reshape(1,8), batch_size=1))"
      ],
      "execution_count": 10,
      "outputs": [
        {
          "output_type": "stream",
          "text": [
            "[[204912.23]]\n"
          ],
          "name": "stdout"
        }
      ]
    },
    {
      "cell_type": "code",
      "metadata": {
        "id": "C57gH3rnTW8t",
        "colab_type": "code",
        "colab": {}
      },
      "source": [
        ""
      ],
      "execution_count": null,
      "outputs": []
    }
  ]
}